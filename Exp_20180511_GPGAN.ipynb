{
 "cells": [
  {
   "cell_type": "markdown",
   "metadata": {},
   "source": [
    "# GP-GAN for image blending\n",
    "As described in paper: Gp-gan: Towards realistic high-resolution image blending"
   ]
  },
  {
   "cell_type": "code",
   "execution_count": 1,
   "metadata": {},
   "outputs": [
    {
     "name": "stderr",
     "output_type": "stream",
     "text": [
      "c:\\anaconda3\\envs\\tensorflow\\lib\\site-packages\\h5py\\__init__.py:34: FutureWarning: Conversion of the second argument of issubdtype from `float` to `np.floating` is deprecated. In future, it will be treated as `np.float64 == np.dtype(float).type`.\n",
      "  from ._conv import register_converters as _register_converters\n"
     ]
    },
    {
     "name": "stdout",
     "output_type": "stream",
     "text": [
      "LEye is not present\n",
      "REye is not present\n",
      "LEar is not present\n",
      "REar is not present\n",
      "Nose is not present\n",
      "Background is not present\n",
      "HeadTop is not present\n",
      "Neck is not present\n",
      "Chest is not present\n",
      "Pelvis is not present\n",
      "Background is not present\n"
     ]
    },
    {
     "name": "stderr",
     "output_type": "stream",
     "text": [
      "Using TensorFlow backend.\n"
     ]
    }
   ],
   "source": [
    "import os\n",
    "COCO_API_DIR = 'D:/Datasets/COCO/cocoapi-master/PythonAPI'\n",
    "COCO_ROOT = 'D:/Datasets/COCO/'\n",
    "COCO_SET = 'train2017'\n",
    "import sys\n",
    "sys.path.append('../frontend')\n",
    "sys.path.append('../backend')\n",
    "sys.path.append(COCO_API_DIR)\n",
    "import tensorflow as tf\n",
    "from threading import Thread\n",
    "import numpy as np\n",
    "import matplotlib.pyplot as plt\n",
    "%matplotlib inline\n",
    "import cv2\n",
    "import glob\n",
    "import time\n",
    "from keras.layers import *\n",
    "import keras\n",
    "from keras.models import *\n",
    "from IPython.display import clear_output\n",
    "import keras.backend as K\n",
    "import keras.optimizers\n",
    "import datasets\n",
    "import composition\n",
    "from pycocotools.coco import COCO"
   ]
  },
  {
   "cell_type": "code",
   "execution_count": 2,
   "metadata": {
    "scrolled": false
   },
   "outputs": [
    {
     "name": "stdout",
     "output_type": "stream",
     "text": [
      "__________________________________________________________________________________________________\n",
      "Layer (type)                    Output Shape         Param #     Connected to                     \n",
      "==================================================================================================\n",
      "input_2 (InputLayer)            (None, 64, 64, 3)    0                                            \n",
      "__________________________________________________________________________________________________\n",
      "e64 (Conv2D)                    (None, 32, 32, 64)   3136        input_2[0][0]                    \n",
      "__________________________________________________________________________________________________\n",
      "e128 (Conv2D)                   (None, 16, 16, 128)  131200      e64[0][0]                        \n",
      "__________________________________________________________________________________________________\n",
      "e256 (Conv2D)                   (None, 8, 8, 256)    524544      e128[0][0]                       \n",
      "__________________________________________________________________________________________________\n",
      "e512 (Conv2D)                   (None, 4, 4, 512)    2097664     e256[0][0]                       \n",
      "__________________________________________________________________________________________________\n",
      "flatten_2 (Flatten)             (None, 8192)         0           e512[0][0]                       \n",
      "__________________________________________________________________________________________________\n",
      "dense_2 (Dense)                 (None, 4000)         32772000    flatten_2[0][0]                  \n",
      "__________________________________________________________________________________________________\n",
      "reshape_1 (Reshape)             (None, 1, 1, 4000)   0           dense_2[0][0]                    \n",
      "__________________________________________________________________________________________________\n",
      "d512 (Conv2DTranspose)          (None, 4, 4, 512)    32768512    reshape_1[0][0]                  \n",
      "__________________________________________________________________________________________________\n",
      "r512 (Add)                      (None, 4, 4, 512)    0           e512[0][0]                       \n",
      "                                                                 d512[0][0]                       \n",
      "__________________________________________________________________________________________________\n",
      "up_sampling2d_1 (UpSampling2D)  (None, 8, 8, 512)    0           r512[0][0]                       \n",
      "__________________________________________________________________________________________________\n",
      "d256 (Conv2D)                   (None, 8, 8, 256)    2097408     up_sampling2d_1[0][0]            \n",
      "__________________________________________________________________________________________________\n",
      "r256 (Add)                      (None, 8, 8, 256)    0           e256[0][0]                       \n",
      "                                                                 d256[0][0]                       \n",
      "__________________________________________________________________________________________________\n",
      "up_sampling2d_2 (UpSampling2D)  (None, 16, 16, 256)  0           r256[0][0]                       \n",
      "__________________________________________________________________________________________________\n",
      "d128 (Conv2D)                   (None, 16, 16, 128)  524416      up_sampling2d_2[0][0]            \n",
      "__________________________________________________________________________________________________\n",
      "r128 (Add)                      (None, 16, 16, 128)  0           e128[0][0]                       \n",
      "                                                                 d128[0][0]                       \n",
      "__________________________________________________________________________________________________\n",
      "up_sampling2d_3 (UpSampling2D)  (None, 32, 32, 128)  0           r128[0][0]                       \n",
      "__________________________________________________________________________________________________\n",
      "d64 (Conv2D)                    (None, 32, 32, 64)   131136      up_sampling2d_3[0][0]            \n",
      "__________________________________________________________________________________________________\n",
      "r64 (Add)                       (None, 32, 32, 64)   0           e64[0][0]                        \n",
      "                                                                 d64[0][0]                        \n",
      "__________________________________________________________________________________________________\n",
      "up_sampling2d_4 (UpSampling2D)  (None, 64, 64, 64)   0           r64[0][0]                        \n",
      "__________________________________________________________________________________________________\n",
      "d32 (Conv2D)                    (None, 64, 64, 3)    3075        up_sampling2d_4[0][0]            \n",
      "==================================================================================================\n",
      "Total params: 71,053,091\n",
      "Trainable params: 71,053,091\n",
      "Non-trainable params: 0\n",
      "__________________________________________________________________________________________________\n",
      "Tensor(\"d32/Relu:0\", shape=(?, 64, 64, 3), dtype=float32)\n"
     ]
    }
   ],
   "source": [
    "# DISCRIMINATOR\n",
    "vgg19 = keras.applications.vgg19.VGG19(\n",
    "    include_top=False, \n",
    "    weights='imagenet', \n",
    "    input_tensor=None, \n",
    "    input_shape=(64,64,3), \n",
    "    pooling=None)\n",
    "\n",
    "# DISCRIMINATOR MODEL\n",
    "x = vgg19.output\n",
    "x = Flatten()(x)\n",
    "x = Dense(1, kernel_initializer='he_uniform')(x)\n",
    "dis_model = Model(vgg19.input, x)\n",
    "\n",
    "\n",
    "# GENERATOR\n",
    "def encoder_decoder(x):\n",
    "    # THIS IS BASICALLY THE ALEXNET ENCODER TAKEN FROM POOl5\n",
    "    e64 = Conv2D(64, (4,4), strides=(2,2), name='e64', padding='same', activation='relu', kernel_initializer='he_uniform')(x)\n",
    "    e128 = Conv2D(128, (4,4), strides=(2,2), name='e128', padding='same', activation='relu', kernel_initializer='he_uniform')(e64)\n",
    "    e256 = Conv2D(256, (4,4), strides=(2,2), name='e256', padding='same', activation='relu', kernel_initializer='he_uniform')(e128)\n",
    "    e512 = Conv2D(512, (4,4), strides=(2,2), name='e512', padding='same', activation='relu', kernel_initializer='he_uniform')(e256)\n",
    "\n",
    "    # Bottleneck layers\n",
    "    x = Flatten()(e512)\n",
    "    x = Dense(4000, activation='relu', kernel_initializer='he_uniform', activity_regularizer=keras.regularizers.l1(0.01))(x)\n",
    "    x = Reshape((1,1,4000))(x)\n",
    "\n",
    "    d512 = Conv2DTranspose(512, padding='valid', kernel_size=(4,4), name='d512', strides=(1,1), activation='relu', kernel_initializer='he_uniform')(x)\n",
    "    r512 = keras.layers.add([ e512, d512  ], name='r512')\n",
    " \n",
    "    d256 = Conv2D(256, (4,4), strides=(1,1), padding='same', name='d256',activation='relu', kernel_initializer='he_uniform')( UpSampling2D((2,2))(r512) ) \n",
    "#    d256 = Conv2DTranspose(256, padding='same', kernel_size=(4,4), name='d256', strides=(2,2), activation='relu', kernel_initializer='he_uniform')(r512)\n",
    "    r256 = keras.layers.add([ e256, d256 ], name='r256')\n",
    "    d128 = Conv2D(128, (4,4), strides=(1,1), padding='same', name='d128',activation='relu', kernel_initializer='he_uniform')( UpSampling2D((2,2))(r256) ) \n",
    "    r128 = keras.layers.add([ e128, d128 ], name='r128')\n",
    "    d64 = Conv2D(64, (4,4), strides=(1,1), padding='same', name='d64',activation='relu', kernel_initializer='he_uniform')( UpSampling2D((2,2))(r128) ) \n",
    "    r64 = keras.layers.add([ e64,d64 ], name='r64')\n",
    "    x = Conv2D(3, (4,4), strides=(1,1), padding='same', name='d32',activation='relu', kernel_initializer='he_uniform')( UpSampling2D((2,2))(r64) ) \n",
    "#    x = Conv2DTranspose(3, padding='same', kernel_size=(4,4), strides=(2,2), name='output', kernel_initializer='he_uniform')(r64)\n",
    "    return x\n",
    "\n",
    "# GENERATOR MODEL\n",
    "x = Input((64,64,3)) \n",
    "xg = encoder_decoder(x)\n",
    "gen_model = Model(x, xg)\n",
    "\n",
    "gen_model.summary()\n",
    "\n",
    "# GAN MODEL\n",
    "gan_input = x \n",
    "gan_output = dis_model( xg )\n",
    "print(xg)\n",
    "gan_model = Model(gan_input, gan_output)\n",
    "\n",
    "dis_model.load_weights('blending_gan_dis.ht')\n",
    "gen_model.load_weights('blending_gan_gen.ht')\n"
   ]
  },
  {
   "cell_type": "code",
   "execution_count": 9,
   "metadata": {},
   "outputs": [],
   "source": [
    "dis_model.trainable = False\n",
    "gan_opt = keras.optimizers.RMSprop(lr=0.000001)\n",
    "gan_model.compile(gan_opt, 'mean_absolute_error')\n",
    "\n",
    "dis_model.trainable = True\n",
    "dis_opt = keras.optimizers.RMSprop(lr=0.000001)\n",
    "dis_model.compile(dis_opt, 'mean_absolute_error')\n",
    "\n",
    "#gen_opt = keras.optimizers.Adam(lr=0.0002*0.999)\n",
    "gen_opt = keras.optimizers.RMSprop(lr=0.000001)\n",
    "gen_model.compile(gen_opt, 'mean_squared_error')"
   ]
  },
  {
   "cell_type": "code",
   "execution_count": 4,
   "metadata": {},
   "outputs": [
    {
     "name": "stdout",
     "output_type": "stream",
     "text": [
      "loading annotations into memory...\n",
      "Done (t=20.71s)\n",
      "creating index...\n",
      "index created!\n",
      "loading annotations into memory...\n",
      "Done (t=9.25s)\n",
      "creating index...\n",
      "index created!\n"
     ]
    }
   ],
   "source": [
    "annFile='{}/annotations/instances_{}.json'.format(COCO_ROOT,COCO_SET)\n",
    "annFileKPS = '{}/annotations/person_keypoints_{}.json'.format(COCO_ROOT,COCO_SET)\n",
    "catNms = ['person']\n",
    "coco=COCO(annFile)\n",
    "coco_kps=COCO(annFileKPS)  \n",
    "catIds = coco.getCatIds(catNms)\n",
    "imgIds = coco.getImgIds(catIds=catIds )"
   ]
  },
  {
   "cell_type": "code",
   "execution_count": 5,
   "metadata": {},
   "outputs": [],
   "source": [
    "def get_real_examples(list_out, coco, coco_kps, coco_root, imgIds, catIds, params, batch_size):\n",
    "    print('Starting the real examples thread')\n",
    "    # GET REFERENCE, NATURAL LOOKING EXAMPLES\n",
    "    for i in range(0, batch_size):\n",
    "        IM = composition.get_image_suitable_for_blending_with_meta(coco, coco_kps, coco_root, imgIds, catIds, longer_edge_size=params['longer_edge_size'], scale_range=params['scale_range_A'], shift_range=params['shift_range_A'], rot_range=params['rot_range_A'], allow_overlaps=params['allow_overlaps_in_A'])\n",
    "        list_out.append(IM)\n",
    "    print('Real examples done')\n",
    "\n",
    "def get_fake_examples(list_out, coco, coco_kps, coco_root, imgIds, catIds, params, batch_size):\n",
    "    print('Starting the fake examples thread')\n",
    "    # GET GENERATED EXAMPLES\n",
    "    for i in range(0, batch_size):\n",
    "        while True:\n",
    "            data_train = composition.get_composition(coco, coco_kps,coco_root, imgIds, catIds, params=params)\n",
    "            if data_train is not None:\n",
    "                list_out.append(data_train)\n",
    "                break\n",
    "    print('Fake examples done')\n",
    "    \n",
    "\n",
    "def get_training_examples(coco, coco_kps, coco_root, imgIds, catIds, composition_params, batch_size):\n",
    "    \n",
    "    list_real = list()\n",
    "    list_fake = list()\n",
    "    thread_real = Thread(target=get_real_examples, args=(list_real, coco, coco_kps, coco_root, imgIds, catIds, composition_params, batch_size))\n",
    "    thread_fake = Thread(target=get_fake_examples, args=(list_fake, coco, coco_kps, coco_root, imgIds, catIds, composition_params, batch_size))\n",
    "    \n",
    "    thread_real.start()\n",
    "    thread_fake.start()\n",
    "\n",
    "    thread_real.join()\n",
    "    thread_fake.join()\n",
    "    return np.array(list_real), np.array(list_fake)\n",
    "\n",
    "def trim_weights(model):\n",
    "    for l in model.layers:\n",
    "        w = l.get_weights()\n",
    "        if len(w) > 0:\n",
    "            print(w[0].shape)\n",
    "            weights = np.clip(w[0], -0.01, 0.01)\n",
    "            l.set_weights([ weights, w[1] ])\n"
   ]
  },
  {
   "cell_type": "code",
   "execution_count": 6,
   "metadata": {},
   "outputs": [],
   "source": [
    "\n",
    "it = 0\n",
    "progress = []"
   ]
  },
  {
   "cell_type": "code",
   "execution_count": null,
   "metadata": {
    "scrolled": false
   },
   "outputs": [
    {
     "name": "stdout",
     "output_type": "stream",
     "text": [
      "It: 116, DIS loss: 0.12578052282333374, GEN loss: 410.9877014160156, GAN loss: 0.4531238079071045\n"
     ]
    },
    {
     "data": {
      "image/png": "[encoded data removed]",
      "text/plain": [
       "<matplotlib.figure.Figure at 0x20aa7cf8f28>"
      ]
     },
     "metadata": {},
     "output_type": "display_data"
    },
    {
     "data": {
      "image/png": "[encoded data removed]",
      "text/plain": [
       "<matplotlib.figure.Figure at 0x20aa86671d0>"
      ]
     },
     "metadata": {},
     "output_type": "display_data"
    },
    {
     "name": "stdout",
     "output_type": "stream",
     "text": [
      "Starting the real examples threadStarting the fake examples thread\n",
      "\n",
      "(3, 3, 3, 64)\n",
      "(3, 3, 64, 64)\n",
      "(3, 3, 64, 128)\n",
      "(3, 3, 128, 128)\n",
      "(3, 3, 128, 256)\n",
      "(3, 3, 256, 256)\n",
      "(3, 3, 256, 256)\n",
      "(3, 3, 256, 256)\n",
      "(3, 3, 256, 512)\n",
      "(3, 3, 512, 512)\n",
      "(3, 3, 512, 512)\n",
      "(3, 3, 512, 512)\n",
      "(3, 3, 512, 512)\n",
      "(3, 3, 512, 512)\n",
      "(3, 3, 512, 512)\n",
      "(3, 3, 512, 512)\n",
      "(2048, 1)\n",
      "Dis loss cur: 0.06512413918972015\n",
      "Gen loss cur: 442.7451477050781\n",
      "GAN loss cur: 0.5090831518173218\n",
      "Real examples done\n",
      "Fake examples done\n",
      "Starting the real examples thread\n",
      "Starting the fake examples thread\n",
      "(3, 3, 3, 64)\n",
      "(3, 3, 64, 64)\n",
      "(3, 3, 64, 128)\n",
      "(3, 3, 128, 128)\n",
      "(3, 3, 128, 256)\n",
      "(3, 3, 256, 256)\n",
      "(3, 3, 256, 256)\n",
      "(3, 3, 256, 256)\n",
      "(3, 3, 256, 512)\n",
      "(3, 3, 512, 512)\n",
      "(3, 3, 512, 512)\n",
      "(3, 3, 512, 512)\n",
      "(3, 3, 512, 512)\n",
      "(3, 3, 512, 512)\n",
      "(3, 3, 512, 512)\n",
      "(3, 3, 512, 512)\n",
      "(2048, 1)\n",
      "Dis loss cur: 0.11393547058105469\n",
      "Gen loss cur: 410.4637756347656\n",
      "GAN loss cur: 0.4795505404472351\n",
      "Real examples done\n",
      "Fake examples done\n",
      "Starting the real examples thread\n",
      "Starting the fake examples thread\n",
      "(3, 3, 3, 64)\n",
      "(3, 3, 64, 64)\n",
      "(3, 3, 64, 128)\n",
      "(3, 3, 128, 128)\n",
      "(3, 3, 128, 256)\n",
      "(3, 3, 256, 256)\n",
      "(3, 3, 256, 256)\n",
      "(3, 3, 256, 256)\n",
      "(3, 3, 256, 512)\n",
      "(3, 3, 512, 512)\n",
      "(3, 3, 512, 512)\n",
      "(3, 3, 512, 512)\n",
      "(3, 3, 512, 512)\n",
      "(3, 3, 512, 512)\n",
      "(3, 3, 512, 512)\n",
      "(3, 3, 512, 512)\n",
      "(2048, 1)\n",
      "Dis loss cur: 0.08074332773685455\n",
      "Gen loss cur: 541.6920776367188\n",
      "GAN loss cur: 0.48876306414604187\n"
     ]
    }
   ],
   "source": [
    "composition_params = composition.default_composition_params\n",
    "composition_params['longer_edge_size'] = 256\n",
    "composition_params['allow_overlaps_in_A'] = True\n",
    "composition_params['allow_overlaps_in_B'] = True\n",
    "composition_params['max_occ_perc_th'] = 0.99\n",
    "composition_params['overlap_perc_th'] = 0.99\n",
    "batch_size = 32\n",
    "\n",
    "while True:\n",
    "\n",
    "    try:\n",
    "\n",
    "        # Set up the threads to work in the background while running GPU tasks\n",
    "        list_real = list()\n",
    "        list_fake = list()\n",
    "        thread_real = Thread(target=get_real_examples, args=(list_real, coco, coco_kps, COCO_ROOT, imgIds, catIds, composition_params, batch_size))\n",
    "        thread_fake = Thread(target=get_fake_examples, args=(list_fake, coco, coco_kps, COCO_ROOT, imgIds, catIds, composition_params, batch_size))\n",
    "\n",
    "        thread_real.start()\n",
    "        thread_fake.start()\n",
    "\n",
    "        if it > 0:\n",
    "            if 0:\n",
    "                plt.imshow( examples_real[0]['image_scaled_and_padded'].astype(np.uint8) )\n",
    "                plt.show()\n",
    "                plt.imshow( examples_real[0]['image_scaled_and_padded'].astype(np.uint8) )\n",
    "                plt.show()\n",
    "\n",
    "                plt.imshow( examples_fake[0]['image_scaled_and_padded'].astype(np.uint8) )\n",
    "                plt.show()\n",
    "                plt.imshow( examples_fake[0]['A']['rect_scaled_and_padded'].astype(np.uint8) )\n",
    "                plt.show()\n",
    "                plt.imshow( examples_fake[0]['inserted_mask'].astype(np.uint8) )\n",
    "                plt.show()\n",
    "\n",
    "\n",
    "            # CREATE BATCH FOR REAL VS FAKE FOR DISCRIMINATOR\n",
    "            batch_real_x = np.zeros((batch_size//2, 64,64,3))\n",
    "            batch_real_y = np.ones((batch_size//2, 1))\n",
    "            batch_fake_x_in = np.zeros((batch_size//2, 64,64,3))\n",
    "            batch_fake_y = np.zeros((batch_size//2, 1))\n",
    "            for i in range(0, batch_size//2):\n",
    "                batch_real_x[i] = cv2.resize( examples_real[i]['image_scaled_and_padded'], (64,64) )\n",
    "                batch_fake_x_in[i] = cv2.resize( np.multiply(examples_fake[i]['image_scaled_and_padded'], np.expand_dims(examples_fake[i]['A']['rect_scaled_and_padded'],2)), (64,64) )\n",
    "            batch_fake_x_out = gen_model.predict(batch_fake_x_in)\n",
    "            dis_batch_x = np.concatenate([ batch_real_x,batch_fake_x_out ],0)\n",
    "            dis_batch_y = np.concatenate([ batch_real_y,batch_fake_y ],0)\n",
    "\n",
    "\n",
    "            dis_model.trainable = True\n",
    "            dis_loss_cur = dis_model.train_on_batch(dis_batch_x, dis_batch_y)\n",
    "            trim_weights(dis_model)\n",
    "            print('Dis loss cur: {}'.format(dis_loss_cur))\n",
    "\n",
    "            # CREATE BATCH FOR GENERATOR \n",
    "            batch_fake_x = np.zeros((batch_size, 64,64,3))\n",
    "            for i in range(0, batch_size//2):\n",
    "                batch_fake_x[i] = cv2.resize( np.multiply(examples_fake[i]['image_scaled_and_padded'], np.expand_dims(examples_fake[i]['A']['rect_scaled_and_padded'],2)), (64,64) )\n",
    "            gen_loss_cur = gen_model.train_on_batch(batch_fake_x, batch_fake_x)\n",
    "            print('Gen loss cur: {}'.format(gen_loss_cur))\n",
    "\n",
    "\n",
    "            # GAN TRAINING IN FULL\n",
    "            dis_model.trainable = False\n",
    "            gan_loss_cur = gan_model.train_on_batch( batch_fake_x, np.ones((batch_size,1)) )\n",
    "            print('GAN loss cur: {}'.format(gan_loss_cur))\n",
    "\n",
    "            progress.append([ it, dis_loss_cur,  gen_loss_cur, gan_loss_cur ])\n",
    "\n",
    "        # Wait for the threads to stop and store new training data\n",
    "        thread_real.join()\n",
    "        thread_fake.join()\n",
    "        examples_real = np.array(list_real)\n",
    "        examples_fake = np.array(list_fake)\n",
    "\n",
    "        it += 1\n",
    "\n",
    "        if it % 4 == 0:\n",
    "            clear_output()\n",
    "            print('It: {}, DIS loss: {}, GEN loss: {}, GAN loss: {}'.format(it, dis_loss_cur, gen_loss_cur, gan_loss_cur))\n",
    "\n",
    "            plt.subplot(1,2,1)\n",
    "            plt.imshow(batch_fake_x_in[0].astype(np.uint8))\n",
    "            plt.title('Before')\n",
    "            plt.subplot(1,2,2)\n",
    "            plt.imshow(np.clip(batch_fake_x_out[0],0,255).astype(np.uint8))\n",
    "            plt.title('After')\n",
    "            plt.show()\n",
    "\n",
    "            p = np.array(progress)\n",
    "            p = p[np.max([0, p.shape[0]-100]):,]\n",
    "            plt.figure()\n",
    "            plt.semilogy( p[:,0], p[:,1] )\n",
    "            plt.semilogy( p[:,0], p[:,2] )\n",
    "            plt.semilogy( p[:,0], p[:,3] )\n",
    "            plt.grid()\n",
    "            plt.legend(['DIS loss','GEN loss', 'GAN loss'])\n",
    "            plt.show()\n",
    "\n",
    "        if it % 100 == 0:\n",
    "            print('Saving models')\n",
    "            dis_model.save('blending_gan_dis.ht')\n",
    "            gen_model.save('blending_gan_gen.ht')\n",
    "    except KeyboardInterrupt:\n",
    "        print('Stopping on demand')\n",
    "        break\n",
    "    except:\n",
    "        clear_output()\n",
    "        print('Some exception')\n"
   ]
  },
  {
   "cell_type": "code",
   "execution_count": null,
   "metadata": {
    "scrolled": false
   },
   "outputs": [],
   "source": []
  },
  {
   "cell_type": "code",
   "execution_count": 8,
   "metadata": {},
   "outputs": [
    {
     "name": "stdout",
     "output_type": "stream",
     "text": [
      "(16, 64, 64, 3)\n"
     ]
    },
    {
     "data": {
      "image/png": "[encoded data removed]",
      "text/plain": [
       "<matplotlib.figure.Figure at 0x20aa05a0630>"
      ]
     },
     "metadata": {},
     "output_type": "display_data"
    },
    {
     "name": "stdout",
     "output_type": "stream",
     "text": [
      "(16, 1)\n"
     ]
    }
   ],
   "source": [
    "print(batch_real_x.shape)\n",
    "\n",
    "plt.imshow(batch_fake_x[0].astype(np.uint8))\n",
    "plt.show()\n",
    "print(batch_real_y.shape)"
   ]
  },
  {
   "cell_type": "code",
   "execution_count": null,
   "metadata": {},
   "outputs": [],
   "source": []
  }
 ],
 "metadata": {
  "kernelspec": {
   "display_name": "Python 3",
   "language": "python",
   "name": "python3"
  },
  "language_info": {
   "codemirror_mode": {
    "name": "ipython",
    "version": 3
   },
   "file_extension": ".py",
   "mimetype": "text/x-python",
   "name": "python",
   "nbconvert_exporter": "python",
   "pygments_lexer": "ipython3",
   "version": "3.5.3"
  }
 },
 "nbformat": 4,
 "nbformat_minor": 2
}
