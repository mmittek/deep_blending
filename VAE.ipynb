{
 "cells": [
  {
   "cell_type": "code",
   "execution_count": 121,
   "metadata": {},
   "outputs": [],
   "source": [
    "import tensorflow as tf\n",
    "import numpy as np\n",
    "import matplotlib.pyplot as plt\n",
    "%matplotlib inline\n",
    "import cv2\n",
    "import keras\n",
    "from keras.datasets import cifar10, mnist\n",
    "from IPython.display import clear_output\n",
    "from matplotlib.patches import Ellipse"
   ]
  },
  {
   "cell_type": "code",
   "execution_count": 35,
   "metadata": {},
   "outputs": [
    {
     "name": "stdout",
     "output_type": "stream",
     "text": [
      "(60000, 28, 28, 1)\n"
     ]
    },
    {
     "data": {
      "image/png": "[encoded data removed]",
      "text/plain": [
       "<matplotlib.figure.Figure at 0x2c2884b9668>"
      ]
     },
     "metadata": {},
     "output_type": "display_data"
    }
   ],
   "source": [
    "# Get the cifar10 dataset ready\n",
    "(x_train, y_train), (x_test, y_test) = mnist.load_data()\n",
    "\n",
    "x_train = np.expand_dims(x_train,3)\n",
    "\n",
    "print(x_train.shape)\n",
    "plt.imshow(x_train[0][:,:,0])\n",
    "plt.show()"
   ]
  },
  {
   "cell_type": "code",
   "execution_count": 192,
   "metadata": {},
   "outputs": [],
   "source": [
    "def sample_z_plane(vae, sess:tf.Session, axis_steps:int=20):\n",
    "    output = []\n",
    "    b = []\n",
    "    rows = []\n",
    "    z = np.zeros((vae.batch_size, vae.z_dim))\n",
    "    i=1\n",
    "    for x in np.linspace(-1,1, axis_steps):\n",
    "        row = []\n",
    "        for y in np.linspace(-1,1,axis_steps):\n",
    "            z[0] = [ x,y ]\n",
    "            y_pred = sess.run(vae.y_form_z, feed_dict={vae.z_input: z})\n",
    "            row.append(y_pred[0,:,:,0])\n",
    "        row_img = np.concatenate( [  row[i] for i in range(0,len(row))  ], axis=1 )\n",
    "        rows.append(row_img)\n",
    "    img = np.concatenate([ rows[i] for i in range(0,len(rows)) ], axis=0)\n",
    "    return img\n",
    "\n",
    "\n",
    "def get_hsv(n:int):\n",
    "    h = np.linspace(0,255, num=n).astype(np.uint8)\n",
    "    hsv = np.expand_dims(np.stack([ h, [255]*n, [255]*n  ], axis=1),0).astype(np.uint8)\n",
    "    return cv2.cvtColor(hsv, cv2.COLOR_HSV2RGB)[0]\n",
    "\n",
    "def show_labeled_z_for_batch(z,z_sigma, batch_y):\n",
    "    cmap = get_hsv(10)\n",
    "    \n",
    "    for i in range(0, z.shape[0]):\n",
    "        plt.plot( z[i,0], z[i,1] , '.')\n",
    "        plt.text( z[i,0], z[i,1], '{}'.format(batch_y[i]) )\n",
    "        \n",
    "        \n",
    "        plt.gcf().gca().add_artist( Ellipse(xy=z[i,0:2], width=3*z_sigma[i,0], height=3*z_sigma[i,1], alpha=0.3, color=cmap[batch_y[i],:]/255 )   )\n",
    "    plt.grid()\n",
    "    plt.xlabel('z0')\n",
    "    plt.axis('equal')\n",
    "    plt.ylabel('z1')\n",
    "    plt.show()\n",
    "\n"
   ]
  },
  {
   "cell_type": "code",
   "execution_count": 162,
   "metadata": {
    "scrolled": false
   },
   "outputs": [
    {
     "name": "stdout",
     "output_type": "stream",
     "text": [
      "Input shape: (64, 28, 28, 1)\n",
      "<tf.Variable 'VAE/encoder/fc1/dense/kernel:0' shape=(784, 256) dtype=float32_ref>\n",
      "<tf.Variable 'VAE/encoder/fc1/dense/bias:0' shape=(256,) dtype=float32_ref>\n",
      "<tf.Variable 'VAE/encoder/fc2/dense/kernel:0' shape=(256, 256) dtype=float32_ref>\n",
      "<tf.Variable 'VAE/encoder/fc2/dense/bias:0' shape=(256,) dtype=float32_ref>\n",
      "<tf.Variable 'VAE/encoder/z_mean/dense/kernel:0' shape=(256, 2) dtype=float32_ref>\n",
      "<tf.Variable 'VAE/encoder/z_mean/dense/bias:0' shape=(2,) dtype=float32_ref>\n",
      "<tf.Variable 'VAE/encoder/z_log_sigma/dense/kernel:0' shape=(256, 2) dtype=float32_ref>\n",
      "<tf.Variable 'VAE/encoder/z_log_sigma/dense/bias:0' shape=(2,) dtype=float32_ref>\n",
      "<tf.Variable 'VAE/decoder/fc1/dense/kernel:0' shape=(2, 256) dtype=float32_ref>\n",
      "<tf.Variable 'VAE/decoder/fc1/dense/bias:0' shape=(256,) dtype=float32_ref>\n",
      "<tf.Variable 'VAE/decoder/fc2/dense/kernel:0' shape=(256, 256) dtype=float32_ref>\n",
      "<tf.Variable 'VAE/decoder/fc2/dense/bias:0' shape=(256,) dtype=float32_ref>\n",
      "<tf.Variable 'VAE/decoder/fc/batch_normalization/gamma:0' shape=(256,) dtype=float32_ref>\n",
      "<tf.Variable 'VAE/decoder/fc/batch_normalization/beta:0' shape=(256,) dtype=float32_ref>\n",
      "<tf.Variable 'VAE/decoder/fc/dense/kernel:0' shape=(256, 784) dtype=float32_ref>\n",
      "<tf.Variable 'VAE/decoder/fc/dense/bias:0' shape=(784,) dtype=float32_ref>\n"
     ]
    }
   ],
   "source": [
    "class VAE:\n",
    "    def __init__(self, batch_size:int=16, kbase:int=512, layers:int=3, use_batchnorm:bool=False, input_dim:tuple=(28,28,1), z_dim:int=2, sampling_eps_std:float=1, train_drop_rate:float=0.3, name:str='VAE'):\n",
    "        self.z_dim = z_dim\n",
    "        self.batch_size = batch_size\n",
    "        self.input_dim = input_dim\n",
    "        self.name = name\n",
    "        self.use_batchnorm = use_batchnorm\n",
    "        self.layers = layers\n",
    "        self.sampling_eps_std = sampling_eps_std\n",
    "        self.train_drop_rate = train_drop_rate\n",
    "        self.kbase = kbase\n",
    "        self.build_model()\n",
    "        \n",
    "    def dense(self, input, units:int, use_bias:bool=True, use_batchnorm:bool=True, use_activation:bool=True, stddev=0.01, name:str='fc'):\n",
    "        with tf.variable_scope(name) as scope:\n",
    "            w_init = tf.contrib.layers.variance_scaling_initializer()\n",
    "            x = input\n",
    "            if use_batchnorm:\n",
    "                x = tf.layers.batch_normalization(x)\n",
    "            x = tf.layers.dense(x, units, use_bias=use_bias, kernel_initializer=w_init)\n",
    "            if use_activation:\n",
    "                x = tf.nn.tanh(x)\n",
    "            return x\n",
    "            \n",
    "    def encoder(self, input, layers:int=3, reuse:bool=False, name:str='encoder'):\n",
    "        with tf.variable_scope(name) as scope:\n",
    "            if reuse:\n",
    "                scope.reuse_variables()\n",
    "                \n",
    "            input_shape = input.get_shape()\n",
    "            print('Input shape: {}'.format(input_shape))\n",
    "            x = tf.reshape(input, shape=[ input_shape[0], np.prod(input_shape[1:]) ], name='x_flat')\n",
    "\n",
    "            for layer in range(0, layers):\n",
    "                x = self.dense(x, self.kbase, use_batchnorm=self.use_batchnorm, name='fc{}'.format(layer+1))\n",
    "                x = tf.nn.dropout(x, self.train_keep_prob, name='fc{}_drop'.format(layer+1))\n",
    "\n",
    "            z_mean = self.dense(x, units=self.z_dim, use_batchnorm=False, use_activation=False, name='z_mean')\n",
    "            z_log_sigma = self.dense(x, units=self.z_dim, use_batchnorm=False, use_activation=False, name='z_log_sigma')\n",
    "            return z_mean, 1e-8+tf.nn.softplus(z_log_sigma)\n",
    "        \n",
    "    def decoder(self, input, layers:int=3, reuse:bool=False, name:str='decoder'):\n",
    "        with tf.variable_scope(name) as scope:\n",
    "            if reuse:\n",
    "                scope.reuse_variables()\n",
    "            x = input\n",
    "            \n",
    "            for layer in range(0, layers):\n",
    "                x = self.dense(x, units=self.kbase, use_batchnorm=self.use_batchnorm, name='fc{}'.format(layer+1))\n",
    "            \n",
    "            x = self.dense(x, np.prod(self.input_dim))\n",
    "            x = tf.reshape(x, shape=[ self.batch_size ] + list(self.input_dim))\n",
    "            x = tf.nn.sigmoid(x)\n",
    "            x = tf.clip_by_value(x, 1e-8, 1-1e-8)\n",
    "            return x\n",
    "    \n",
    "    def sampler(self, mean, sigma, reuse:bool=False, name:str='sampler'):\n",
    "        with tf.variable_scope(name) as scope:\n",
    "            eps = tf.random_normal(shape=[self.batch_size, self.z_dim], mean=0.0, stddev=self.sampling_eps_std, dtype=tf.float32)\n",
    "            return mean + sigma*eps\n",
    "        \n",
    "    def build_model(self):\n",
    "        with tf.variable_scope(self.name) as scope:\n",
    "            self.x = tf.placeholder(tf.float32, shape=[self.batch_size] +list(self.input_dim), name='x')\n",
    "            self.z_input = tf.placeholder(tf.float32, shape=[self.batch_size, self.z_dim], name='z_input')\n",
    "            self.train_keep_prob = tf.placeholder_with_default(1-self.train_drop_rate, shape=[], name='train_keep_prob')\n",
    "\n",
    "            # X->Z\n",
    "            self.z_mean, self.z_sigma = self.encoder(self.x, layers=self.layers)\n",
    "            \n",
    "            # Sample from Z\n",
    "            self.z_sampled = self.sampler(self.z_mean, self.z_sigma)\n",
    "            \n",
    "            # Z->Y\n",
    "            self.y = self.decoder(self.z_sampled, layers=self.layers)\n",
    "            self.y_form_z = self.decoder(self.z_input, layers=self.layers, reuse=True)\n",
    "\n",
    "            self.ae_loss = tf.reduce_mean(tf.reduce_sum(tf.pow(self.y-self.x,2), axis=[3,2,1]), axis=0)\n",
    "            self.z_mean_magn = tf.reduce_mean( tf.reduce_sum( tf.pow(self.z_mean,2),axis=1 ), axis=0 )\n",
    "            self.z_sigma_magn = tf.reduce_mean( tf.reduce_sum( tf.pow(self.z_sigma,2),axis=1 ), axis=0 )\n",
    "            \n",
    "            x_flat = tf.reshape(self.x, [self.batch_size, np.prod(self.input_dim)], name='x_flat')\n",
    "            y_flat = tf.reshape(self.y, [self.batch_size, np.prod(self.input_dim)], name='y_flat')\n",
    "            \n",
    "            marginal_likelihood = tf.reduce_sum( x_flat*tf.log(y_flat) + (1-x_flat)*tf.log(1-y_flat) ,1)\n",
    "            KL_divergence = 0.5*tf.reduce_sum( tf.square(self.z_mean) + tf.square(self.z_sigma) - tf.log(1e-8 + tf.square(self.z_sigma))-1,1 )\n",
    "\n",
    "            \n",
    "            self.loss = -tf.reduce_mean(marginal_likelihood) + tf.reduce_mean(KL_divergence)\n",
    "            \n",
    "            self.theta = tf.trainable_variables()\n",
    "            for t in self.theta:\n",
    "                print(t)\n",
    "\n",
    "    def load_weights(self, weights:dict, sess:tf.Session):\n",
    "        for v in self.theta:\n",
    "            if( v.name in weights.keys() ):\n",
    "                print('Loading weights for {}'.format(v.name))\n",
    "                sess.run( tf.assign( v, weights[v.name] ) )\n",
    "                \n",
    "    def get_weights(self, sess:tf.Session):\n",
    "        weights = dict()\n",
    "        for v in self.theta:\n",
    "            weights[v.name] = v.eval() \n",
    "        return weights\n",
    "    \n",
    "    \n",
    "                \n",
    "tf.reset_default_graph()\n",
    "vae = VAE(batch_size=64, kbase=256, layers=2, use_batchnorm=False)   "
   ]
  },
  {
   "cell_type": "code",
   "execution_count": null,
   "metadata": {
    "scrolled": false
   },
   "outputs": [],
   "source": [
    "vae_optim = tf.train.RMSPropOptimizer(0.001).minimize( vae.loss, var_list=vae.theta)\n",
    "it = 0\n",
    "progress = []\n",
    "\n",
    "with tf.Session() as sess:\n",
    "    sess.run(tf.global_variables_initializer())\n",
    "\n",
    "    vae.load_weights(weights, sess)\n",
    "    \n",
    "    while True:\n",
    "        idx = np.random.uniform(0, x_train.shape[0], size=(vae.batch_size,)).astype(np.int32)\n",
    "        batch_x = x_train[idx]/255\n",
    "        batch_y = y_train[idx]\n",
    "\n",
    "        _, loss_cur = sess.run([ vae_optim, vae.loss ], feed_dict={ vae.x:batch_x })\n",
    "        print(loss_cur)\n",
    "        progress.append([ it, loss_cur ])\n",
    "        \n",
    "        if it %500==0:\n",
    "            weights = vae.get_weights(sess)\n",
    "            \n",
    "            img = sample_z_plane(vae, sess)\n",
    "            y_pred,z,z_sigma = sess.run( [vae.y, vae.z_mean, vae.z_sigma] , feed_dict={ vae.x:batch_x, vae.train_keep_prob:1.0})\n",
    "            \n",
    "            clear_output()\n",
    "            \n",
    "            plt.figure(figsize=(10,10))\n",
    "            plt.imshow(img, cmap='gray')\n",
    "            plt.show()\n",
    "            \n",
    "            plt.imshow(  (np.concatenate([  batch_x[0][:,:,0], y_pred[0][:,:,0]], axis=1)*255).astype(np.uint8) , cmap='gray' )\n",
    "            plt.show()\n",
    "            \n",
    "            show_labeled_z_for_batch(z,z_sigma, batch_y)\n",
    "            \n",
    "            p = np.array(progress)\n",
    "            p = p[np.max([0, p.shape[0]-2000]):]\n",
    "            plt.plot( p[:,0], p[:,1] )\n",
    "            plt.grid()\n",
    "            plt.show()\n",
    "        \n",
    "        it+=1\n",
    "        \n",
    "        "
   ]
  },
  {
   "cell_type": "code",
   "execution_count": 147,
   "metadata": {},
   "outputs": [
    {
     "data": {
      "image/png": "[encoded data removed]",
      "text/plain": [
       "<matplotlib.figure.Figure at 0x2c28e6125c0>"
      ]
     },
     "metadata": {},
     "output_type": "display_data"
    }
   ],
   "source": []
  },
  {
   "cell_type": "code",
   "execution_count": 189,
   "metadata": {},
   "outputs": [],
   "source": []
  },
  {
   "cell_type": "code",
   "execution_count": 174,
   "metadata": {},
   "outputs": [
    {
     "name": "stdout",
     "output_type": "stream",
     "text": [
      "[-1. -1.]\n",
      "(28, 28, 1)\n"
     ]
    },
    {
     "data": {
      "text/plain": [
       "<matplotlib.image.AxesImage at 0x2c10af96048>"
      ]
     },
     "execution_count": 174,
     "metadata": {},
     "output_type": "execute_result"
    },
    {
     "data": {
      "image/png": "[encoded data removed]",
      "text/plain": [
       "<matplotlib.figure.Figure at 0x2c17d591ba8>"
      ]
     },
     "metadata": {},
     "output_type": "display_data"
    }
   ],
   "source": [
    "\n"
   ]
  },
  {
   "cell_type": "code",
   "execution_count": 145,
   "metadata": {},
   "outputs": [
    {
     "name": "stdout",
     "output_type": "stream",
     "text": [
      "(10, 3)\n"
     ]
    }
   ],
   "source": [
    "\n",
    "    \n",
    "cmap = get_hsv(10)\n",
    "print(cmap.shape)\n",
    "\n"
   ]
  },
  {
   "cell_type": "code",
   "execution_count": null,
   "metadata": {},
   "outputs": [],
   "source": []
  },
  {
   "cell_type": "code",
   "execution_count": null,
   "metadata": {},
   "outputs": [],
   "source": []
  }
 ],
 "metadata": {
  "kernelspec": {
   "display_name": "Python 3",
   "language": "python",
   "name": "python3"
  }
 },
 "nbformat": 4,
 "nbformat_minor": 2
}
